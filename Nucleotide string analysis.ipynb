{
 "cells": [
  {
   "cell_type": "markdown",
   "id": "65730383",
   "metadata": {},
   "source": [
    "# Nucleotide analysis of a DNA sequence"
   ]
  },
  {
   "cell_type": "code",
   "execution_count": 3,
   "id": "63902976",
   "metadata": {},
   "outputs": [],
   "source": [
    "#Generate Random String of Specific Length \n",
    "\n",
    "import random\n",
    "import string"
   ]
  },
  {
   "cell_type": "code",
   "execution_count": 4,
   "id": "b9a79bd5",
   "metadata": {},
   "outputs": [],
   "source": [
    "def geneate_DNA(length):\n",
    "    DNA_Nucleotides = ['A', 'C', 'G', 'T']\n",
    "    DNA_sequence = ''\n",
    "    for i in range(length):\n",
    "        DNA_sequence += random.choice(DNA_Nucleotides)\n",
    "    return DNA_sequence"
   ]
  },
  {
   "cell_type": "code",
   "execution_count": 5,
   "id": "d7ae67df",
   "metadata": {},
   "outputs": [],
   "source": [
    "geneate_DNA(20)\n",
    "\n",
    "seq = 'GTATGACGCCTGATAGATGC'"
   ]
  },
  {
   "cell_type": "markdown",
   "id": "9c5112bb",
   "metadata": {},
   "source": [
    " # Fuctions for counting the number of bases"
   ]
  },
  {
   "cell_type": "code",
   "execution_count": 6,
   "id": "3513504c",
   "metadata": {},
   "outputs": [],
   "source": [
    "def nucleotide_analysis(seq):\n",
    "    #counting the number of bases\n",
    "    #A\n",
    "    a_count = seq.count('A')\n",
    "    #C\n",
    "    c_count = seq.count('C')\n",
    "    #G\n",
    "    g_count = seq.count('G')\n",
    "    #T\n",
    "    t_count = seq.count('T')\n",
    "    #printing the results\n",
    "    print('The DNA sequence is ' + seq)\n",
    "    print('The length of the sequence is ' + str(len(seq)))\n",
    "    print('The number of As is ' + str(a_count))\n",
    "    print('The number of Cs is ' + str(c_count))\n",
    "    print('The number of Gs is ' + str(g_count))\n",
    "    print('The number of Ts is ' + str(t_count))"
   ]
  },
  {
   "cell_type": "code",
   "execution_count": 7,
   "id": "c9438849",
   "metadata": {},
   "outputs": [
    {
     "name": "stdout",
     "output_type": "stream",
     "text": [
      "The DNA sequence is GTATGACGCCTGATAGATGC\n",
      "The length of the sequence is 20\n",
      "The number of As is 5\n",
      "The number of Cs is 4\n",
      "The number of Gs is 6\n",
      "The number of Ts is 5\n"
     ]
    }
   ],
   "source": [
    "nucleotide_analysis(seq)"
   ]
  },
  {
   "cell_type": "markdown",
   "id": "cee27b2c",
   "metadata": {},
   "source": [
    "# Second alternative "
   ]
  },
  {
   "cell_type": "code",
   "execution_count": 8,
   "id": "33129c07",
   "metadata": {},
   "outputs": [],
   "source": [
    "def nucleotide_analysis_v2(dna_sequence):\n",
    "    \"\"\"\n",
    "    Prints the number of A, T, C, and G nucleotides in a DNA sequence.\n",
    "    \"\"\"\n",
    "    dna_sequence = dna_sequence.upper()\n",
    "    a_count = dna_sequence.count('A')\n",
    "    t_count = dna_sequence.count('T')\n",
    "    c_count = dna_sequence.count('C')\n",
    "    g_count = dna_sequence.count('G')\n",
    "    print('A:', a_count)\n",
    "    print('T:', t_count)\n",
    "    print('C:', c_count)\n",
    "    print('G:', g_count)"
   ]
  },
  {
   "cell_type": "code",
   "execution_count": 9,
   "id": "7e72de2e",
   "metadata": {},
   "outputs": [
    {
     "name": "stdout",
     "output_type": "stream",
     "text": [
      "A: 5\n",
      "T: 5\n",
      "C: 4\n",
      "G: 6\n"
     ]
    }
   ],
   "source": [
    "nucleotide_analysis_v2(seq)"
   ]
  },
  {
   "cell_type": "markdown",
   "id": "a9fa62ee",
   "metadata": {},
   "source": [
    "#  Third alternative for generating dictionary of the number of each nucleotide"
   ]
  },
  {
   "cell_type": "code",
   "execution_count": 10,
   "id": "b196cea7",
   "metadata": {},
   "outputs": [],
   "source": [
    "def nucleotide_analysis_v3(dna_seq):\n",
    "    \"\"\"\n",
    "    :param dna_seq: DNA sequence\n",
    "    :return: a dictionary of the number of each nucleotide\n",
    "    \"\"\"\n",
    "    nucleotide_counts = {'A': 0, 'C': 0, 'G': 0, 'T': 0}\n",
    "    for nucleotide in dna_seq:\n",
    "        nucleotide_counts[nucleotide] += 1\n",
    "    return nucleotide_counts"
   ]
  },
  {
   "cell_type": "code",
   "execution_count": 11,
   "id": "a1bd88e1",
   "metadata": {},
   "outputs": [
    {
     "data": {
      "text/plain": [
       "{'A': 5, 'C': 4, 'G': 6, 'T': 5}"
      ]
     },
     "execution_count": 11,
     "metadata": {},
     "output_type": "execute_result"
    }
   ],
   "source": [
    "nucleotide_analysis_v3(seq)"
   ]
  },
  {
   "cell_type": "markdown",
   "id": "ae455336",
   "metadata": {},
   "source": [
    "# Fourth alternative for calculates the total number of nucleotides and calculates the percentage of each nucleotide"
   ]
  },
  {
   "cell_type": "code",
   "execution_count": 12,
   "id": "63ddb3be",
   "metadata": {},
   "outputs": [],
   "source": [
    "def nucleotide_analysis_v4(sequence):\n",
    "    \"\"\"\n",
    "    a method to analyze a DNA sequence\n",
    "    \"\"\"\n",
    "    #counts the number of each nucleotide\n",
    "    a_count = sequence.count('A')\n",
    "    t_count = sequence.count('T')\n",
    "    g_count = sequence.count('G')\n",
    "    c_count = sequence.count('C')\n",
    "    #calculates the total number of nucleotides\n",
    "    total_count = a_count + t_count + g_count + c_count\n",
    "    #calculates the total number of nucleotides\n",
    "    total_count = a_count + t_count + g_count + c_count\n",
    "    #calculates the percentage of each nucleotide\n",
    "    a_percent = round((a_count/total_count)*100,2)\n",
    "    t_percent = round((t_count/total_count)*100,2)\n",
    "    g_percent = round((g_count/total_count)*100,2)\n",
    "    c_percent = round((c_count/total_count)*100,2)\n",
    "    #prints the results\n",
    "    print(f'A: {a_count} ({a_percent}%)')\n",
    "    print(f'T: {t_count} ({t_percent}%)')\n",
    "    print(f'G: {g_count} ({g_percent}%)')\n",
    "    print(f'C: {c_count} ({c_percent}%)')\n",
    "    print(f'Total: {total_count}')"
   ]
  },
  {
   "cell_type": "code",
   "execution_count": 13,
   "id": "5c8460c9",
   "metadata": {},
   "outputs": [
    {
     "name": "stdout",
     "output_type": "stream",
     "text": [
      "A: 5 (25.0%)\n",
      "T: 5 (25.0%)\n",
      "G: 6 (30.0%)\n",
      "C: 4 (20.0%)\n",
      "Total: 20\n"
     ]
    }
   ],
   "source": [
    "nucleotide_analysis_v4(seq)"
   ]
  },
  {
   "cell_type": "markdown",
   "id": "1b4fc4b9",
   "metadata": {},
   "source": [
    "# Fifth alternative for create a dictionary to hold the count - similar to third alternative "
   ]
  },
  {
   "cell_type": "code",
   "execution_count": 16,
   "id": "b299aaba",
   "metadata": {},
   "outputs": [],
   "source": [
    "def nucleotide_analysis_v5(sequence):\n",
    "    \"\"\"\n",
    "    Calculate the number of each type of nucleotide in the sequence.\n",
    "    \"\"\"\n",
    "    #create a dictionary to hold the counts\n",
    "    count = {}\n",
    "    #add the counts to the dictionary\n",
    "    count['A'] = sequence.count('A')\n",
    "    count['T'] = sequence.count('T')\n",
    "    count['G'] = sequence.count('G')\n",
    "    count['C'] = sequence.count('C')\n",
    "\n",
    "    #return the dictionary\n",
    "    return count"
   ]
  },
  {
   "cell_type": "code",
   "execution_count": 17,
   "id": "fd6115bc",
   "metadata": {},
   "outputs": [
    {
     "data": {
      "text/plain": [
       "{'A': 5, 'T': 5, 'G': 6, 'C': 4}"
      ]
     },
     "execution_count": 17,
     "metadata": {},
     "output_type": "execute_result"
    }
   ],
   "source": [
    "nucleotide_analysis_v5(seq)"
   ]
  },
  {
   "cell_type": "markdown",
   "id": "16d966f0",
   "metadata": {},
   "source": [
    "# Plotting methods for nucleitude string"
   ]
  },
  {
   "cell_type": "markdown",
   "id": "236f3a14",
   "metadata": {},
   "source": [
    "## Count the frequency of nucleotide and plot pie chart"
   ]
  },
  {
   "cell_type": "code",
   "execution_count": 19,
   "id": "4f8f17ce",
   "metadata": {},
   "outputs": [],
   "source": [
    "from collections import Counter\n",
    "from matplotlib import pyplot as plt\n",
    "from matplotlib import style"
   ]
  },
  {
   "cell_type": "code",
   "execution_count": 20,
   "id": "12096954",
   "metadata": {},
   "outputs": [],
   "source": [
    "def nucleotide_counter(sequence):\n",
    "    \"\"\"Count the frequency of nucleotide and plot pie chart\"\"\"\n",
    "    #count the frequency of nucleotide\n",
    "    a_count = sequence.count('A')\n",
    "    t_count = sequence.count('T')\n",
    "    c_count = sequence.count('C')\n",
    "    g_count = sequence.count('G')\n",
    "    #plot pie chart\n",
    "    labels = 'A', 'T', 'C', 'G'\n",
    "    sizes = [a_count, t_count, c_count, g_count]\n",
    "    explode = (0, 0.1, 0, 0)  # only \"explode\" the 2nd slice (i.e. 'Hogs')\n",
    "    fig1, ax1 = plt.subplots()\n",
    "    ax1.pie(sizes, explode=explode, labels=labels, autopct='%1.1f%%',\n",
    "            shadow=True, startangle=90)\n",
    "    ax1.axis('equal')  # Equal aspect ratio ensures that pie is drawn as a circle.\n",
    "    plt.show()"
   ]
  },
  {
   "cell_type": "code",
   "execution_count": 21,
   "id": "b9587e36",
   "metadata": {},
   "outputs": [
    {
     "data": {
      "image/png": "[encoded data removed]",
      "text/plain": [
       "<Figure size 432x288 with 1 Axes>"
      ]
     },
     "metadata": {},
     "output_type": "display_data"
    }
   ],
   "source": [
    "nucleotide_counter(seq)"
   ]
  },
  {
   "cell_type": "markdown",
   "id": "5d741394",
   "metadata": {},
   "source": [
    "## alternative - Count the frequency of nucleotide anf plot pie chart"
   ]
  },
  {
   "cell_type": "code",
   "execution_count": 22,
   "id": "7daf7f79",
   "metadata": {},
   "outputs": [],
   "source": [
    "def nucleotide_counter_v1(sequence):\n",
    "    \"\"\"Count the frequency of nucleotide anf plot pie chart\"\"\"\n",
    "    #initialize dictionary\n",
    "    dna_dict = {}\n",
    "    dna_dict['A'] = 0\n",
    "    dna_dict['T'] = 0\n",
    "    dna_dict['G'] = 0\n",
    "    dna_dict['C'] = 0\n",
    "\n",
    "    #count the frequency of nucleotide\n",
    "    for nucleotide in sequence:\n",
    "        if nucleotide == 'A':\n",
    "            dna_dict['A'] += 1\n",
    "        elif nucleotide == 'T':\n",
    "            dna_dict['T'] += 1\n",
    "        elif nucleotide == 'G':\n",
    "            dna_dict['G'] += 1\n",
    "        elif nucleotide == 'C':\n",
    "            dna_dict['C'] += 1\n",
    "        else:\n",
    "            print(\"Not a valid nucleotide\")\n",
    "    #plot pie chart\n",
    "    labels = 'A', 'T', 'G', 'C'\n",
    "    sizes = [dna_dict['A'], dna_dict['T'], dna_dict['G'], dna_dict['C']]\n",
    "    colors = ['gold', 'yellowgreen', 'lightcoral', 'lightskyblue']\n",
    "    explode = (0, 0, 0, 0)  # explode 1st slice\n",
    "    plt.pie(sizes, explode=explode, labels=labels, colors=colors,\n",
    "            autopct='%1.1f%%', shadow=True, startangle=140)\n",
    "    plt.axis('equal')\n",
    "    plt.show()"
   ]
  },
  {
   "cell_type": "code",
   "execution_count": 23,
   "id": "be894705",
   "metadata": {},
   "outputs": [
    {
     "data": {
      "image/png": "[encoded data removed]",
      "text/plain": [
       "<Figure size 432x288 with 1 Axes>"
      ]
     },
     "metadata": {},
     "output_type": "display_data"
    }
   ],
   "source": [
    "nucleotide_counter_v1(seq)"
   ]
  },
  {
   "cell_type": "markdown",
   "id": "72a9af59",
   "metadata": {},
   "source": [
    "## Count the frequency of nucleotide anf plot bar chart"
   ]
  },
  {
   "cell_type": "code",
   "execution_count": 24,
   "id": "044f2a66",
   "metadata": {},
   "outputs": [],
   "source": [
    "def nucleotide_counter_v3(sequence):\n",
    "    \"\"\"Count the frequency of nucleotide anf plot bar chart\"\"\"\n",
    "    #initialize the count\n",
    "    count = {'A':0, 'T':0, 'C':0, 'G':0}\n",
    "    #iterate over the sequence counting the nucleotide\n",
    "    for nucleotide in sequence:\n",
    "        count[nucleotide] += 1\n",
    "    #plot the bar chart\n",
    "    plt.bar(count.keys(), count.values(), color = 'g')\n",
    "    plt.show()"
   ]
  },
  {
   "cell_type": "code",
   "execution_count": 25,
   "id": "3ca027ad",
   "metadata": {},
   "outputs": [
    {
     "data": {
      "image/png": "[encoded data removed]",
      "text/plain": [
       "<Figure size 432x288 with 1 Axes>"
      ]
     },
     "metadata": {
      "needs_background": "light"
     },
     "output_type": "display_data"
    }
   ],
   "source": [
    "nucleotide_counter_v3(seq)"
   ]
  },
  {
   "cell_type": "markdown",
   "id": "5261aaa9",
   "metadata": {},
   "source": [
    "# Advance method for kmer generation and plotting their frequency"
   ]
  },
  {
   "cell_type": "markdown",
   "id": "44c5b106",
   "metadata": {},
   "source": [
    "### kmer -  Split sequence into overlapping k-mers"
   ]
  },
  {
   "cell_type": "code",
   "execution_count": 28,
   "id": "f70f8e62",
   "metadata": {},
   "outputs": [],
   "source": [
    "def kmer(sequence,k):\n",
    "    \"\"\"Split sequence into overlapping  k-mers\"\"\"\n",
    "    return [sequence[i:i+k] for i in range(len(sequence)-k+1)]"
   ]
  },
  {
   "cell_type": "code",
   "execution_count": 29,
   "id": "f4f34abd",
   "metadata": {},
   "outputs": [
    {
     "data": {
      "text/plain": [
       "['GTAT',\n",
       " 'TATG',\n",
       " 'ATGA',\n",
       " 'TGAC',\n",
       " 'GACG',\n",
       " 'ACGC',\n",
       " 'CGCC',\n",
       " 'GCCT',\n",
       " 'CCTG',\n",
       " 'CTGA',\n",
       " 'TGAT',\n",
       " 'GATA',\n",
       " 'ATAG',\n",
       " 'TAGA',\n",
       " 'AGAT',\n",
       " 'GATG',\n",
       " 'ATGC']"
      ]
     },
     "execution_count": 29,
     "metadata": {},
     "output_type": "execute_result"
    }
   ],
   "source": [
    "kmer(seq,4)"
   ]
  },
  {
   "cell_type": "markdown",
   "id": "d3a41161",
   "metadata": {},
   "source": [
    "## Split sequence into overlapping kmers and plot them"
   ]
  },
  {
   "cell_type": "code",
   "execution_count": 32,
   "id": "87fd30a0",
   "metadata": {},
   "outputs": [],
   "source": [
    "def kmer_v2(sequence,k):\n",
    "    \"\"\"Split sequence into overlapping kmers and plot them\"\"\"\n",
    "    import matplotlib.pyplot as plt\n",
    "    import numpy as np\n",
    "    kmer_dict = {}\n",
    "    for i in range(len(sequence)-k+1):\n",
    "        kmer = sequence[i:i+k]\n",
    "        if kmer not in kmer_dict:\n",
    "            kmer_dict[kmer] = 1\n",
    "        else:\n",
    "            kmer_dict[kmer] += 1\n",
    "    kmer_list = []\n",
    "    count_list = []\n",
    "    for kmer in kmer_dict:\n",
    "        kmer_list.append(kmer)\n",
    "        count_list.append(kmer_dict[kmer])\n",
    "    plt.figure()\n",
    "    plt.bar(kmer_list,count_list)\n",
    "    plt.xlabel('kmer')\n",
    "    plt.ylabel('count')\n",
    "    plt.title('kmer count')\n",
    "    plt.show()\n"
   ]
  },
  {
   "cell_type": "code",
   "execution_count": 33,
   "id": "59dd21b5",
   "metadata": {},
   "outputs": [
    {
     "data": {
      "image/png": "[encoded data removed]",
      "text/plain": [
       "<Figure size 432x288 with 1 Axes>"
      ]
     },
     "metadata": {
      "needs_background": "light"
     },
     "output_type": "display_data"
    }
   ],
   "source": [
    "kmer_v2(seq,3)"
   ]
  },
  {
   "cell_type": "code",
   "execution_count": 53,
   "id": "63b8f1a3",
   "metadata": {},
   "outputs": [],
   "source": []
  },
  {
   "cell_type": "code",
   "execution_count": null,
   "id": "43e52cbb",
   "metadata": {},
   "outputs": [],
   "source": []
  },
  {
   "cell_type": "code",
   "execution_count": null,
   "id": "bf3a6e3b",
   "metadata": {},
   "outputs": [],
   "source": []
  }
 ],
 "metadata": {
  "kernelspec": {
   "display_name": "Python 3 (ipykernel)",
   "language": "python",
   "name": "python3"
  },
  "language_info": {
   "codemirror_mode": {
    "name": "ipython",
    "version": 3
   },
   "file_extension": ".py",
   "mimetype": "text/x-python",
   "name": "python",
   "nbconvert_exporter": "python",
   "pygments_lexer": "ipython3",
   "version": "3.9.7"
  }
 },
 "nbformat": 4,
 "nbformat_minor": 5
}
