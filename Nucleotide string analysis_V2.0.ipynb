{
 "cells": [
  {
   "cell_type": "markdown",
   "id": "d73d88eb",
   "metadata": {},
   "source": [
    "# Nucleotide analysis of a DNA sequence\n",
    "### Bioinformatics Class Material"
   ]
  },
  {
   "cell_type": "markdown",
   "id": "4a258d0a",
   "metadata": {},
   "source": [
    "------------------------------------------------------------------------------------------------------------------------------"
   ]
  },
  {
   "cell_type": "markdown",
   "id": "0abfd4e9",
   "metadata": {},
   "source": [
    "Welcome to the Jupyter Notebook interface! Here, you will be able to learn basic Python scripting and genomics using our user-friendly platform. With the shift to remote learning due to the COVID-19 pandemic, we understand the need for an alternative approach to traditional teaching methods. Our modified Bioinformatics course utilizes Jupyter Notebook to allow students to acquire the necessary skills for basic DNA sequence analysis while working remotely.\n",
    "\n",
    "Jupyter Notebook offers a versatile and interactive approach to learning. It allows us to combine explanations, code, and results in a single document, providing students with the opportunity to interact with the code and results. This feature makes the learning process more engaging and effective, as students are able to see how the code works in real-time.\n",
    "\n",
    "Our approach using Jupyter Notebook provides a hybrid approach to learning that is effective for remote teaching and learning during the COVID-19 pandemic. By using Jupyter Notebook, we have been able to successfully modify our Bioinformatics course and provide students with the necessary skills for DNA sequence analysis.\n",
    "\n",
    "We hope that you find the Jupyter Notebook interface easy to use and that it enhances your learning experience. If you have any questions, please do not hesitate to ask!"
   ]
  },
  {
   "cell_type": "markdown",
   "id": "74e83dc5",
   "metadata": {},
   "source": [
    "********************************************************************************************************************************"
   ]
  },
  {
   "cell_type": "markdown",
   "id": "0ba1c93f",
   "metadata": {},
   "source": [
    "# Generate Random String of Specific Length "
   ]
  },
  {
   "cell_type": "markdown",
   "id": "60dee4b7",
   "metadata": {},
   "source": [
    "\n",
    "\n",
    "Overall, the code generates a random DNA sequence of a specific length using a function called geneate_DNA that takes an argument length. The function creates a list of DNA nucleotides, generates a random nucleotide 'length' number of times, and adds them to the DNA sequence. The function then returns the generated DNA sequence.\n",
    "\n",
    "Finally, the code assigns a predetermined 20-character DNA sequence to a variable seq for further use."
   ]
  },
  {
   "cell_type": "code",
   "execution_count": 1,
   "id": "a49d46cd",
   "metadata": {},
   "outputs": [],
   "source": [
    "#Generate Random String of Specific Length \n",
    "\n",
    "import random  # Importing the 'random' module to generate random values\n",
    "import string  # Importing the 'string' module to access string constants\n",
    "\n",
    "def geneate_DNA(length):\n",
    "    # List of DNA nucleotides \n",
    "    DNA_Nucleotides = ['A', 'C', 'G', 'T']\n",
    "    # Empty string to store DNA sequence\n",
    "    DNA_sequence = ''\n",
    "    # Generate a random nucleotide 'length' number of times and add to the sequence\n",
    "    for i in range(length):\n",
    "        DNA_sequence += random.choice(DNA_Nucleotides)\n",
    "    # Return the generated DNA sequence\n",
    "    return DNA_sequence\n",
    "\n",
    "# Call the 'geneate_DNA' function and pass it an argument of length 20 to generate a 20-character DNA sequence\n",
    "geneate_DNA(20)\n",
    "\n",
    "# A string variable 'seq' that holds a predetermined 20-character DNA sequence\n",
    "seq = 'GTATGACGCCTGATAGATGC'\n"
   ]
  },
  {
   "cell_type": "markdown",
   "id": "daa5b16d",
   "metadata": {},
   "source": [
    "# Functions for counting the number of bases"
   ]
  },
  {
   "cell_type": "markdown",
   "id": "ad9fa9c8",
   "metadata": {},
   "source": [
    "\n",
    "The code defines a function called nucleotide_analysis that takes a DNA sequence seq as its argument. The function calculates the count of each base 'A', 'C', 'G', and 'T' in the DNA sequence using the count() method. It then prints the original DNA sequence, its length, and the count of each base.\n",
    "\n",
    "Finally, the nucleotide_analysis function is called with the previously defined seq variable as its argument to print the nucleotide analysis results for the given DNA sequence."
   ]
  },
  {
   "cell_type": "code",
   "execution_count": 3,
   "id": "d667ca40",
   "metadata": {},
   "outputs": [
    {
     "name": "stdout",
     "output_type": "stream",
     "text": [
      "The DNA sequence is GTATGACGCCTGATAGATGC\n",
      "The length of the sequence is 20\n",
      "The number of As is 5\n",
      "The number of Cs is 4\n",
      "The number of Gs is 6\n",
      "The number of Ts is 5\n"
     ]
    }
   ],
   "source": [
    "def nucleotide_analysis(seq):\n",
    "    # count the number of occurrences of base 'A' in the given DNA sequence 'seq'\n",
    "    a_count = seq.count('A')\n",
    "    # count the number of occurrences of base 'C' in the given DNA sequence 'seq'\n",
    "    c_count = seq.count('C')\n",
    "    # count the number of occurrences of base 'G' in the given DNA sequence 'seq'\n",
    "    g_count = seq.count('G')\n",
    "    # count the number of occurrences of base 'T' in the given DNA sequence 'seq'\n",
    "    t_count = seq.count('T')\n",
    "    # print the original DNA sequence\n",
    "    print('The DNA sequence is ' + seq)\n",
    "    # print the length of the DNA sequence\n",
    "    print('The length of the sequence is ' + str(len(seq)))\n",
    "    # print the number of occurrences of base 'A' in the DNA sequence\n",
    "    print('The number of As is ' + str(a_count))\n",
    "    # print the number of occurrences of base 'C' in the DNA sequence\n",
    "    print('The number of Cs is ' + str(c_count))\n",
    "    # print the number of occurrences of base 'G' in the DNA sequence\n",
    "    print('The number of Gs is ' + str(g_count))\n",
    "    # print the number of occurrences of base 'T' in the DNA sequence\n",
    "    print('The number of Ts is ' + str(t_count))\n",
    "\n",
    "# Call the 'nucleotide_analysis' function with the previously defined 'seq' variable as its argument\n",
    "nucleotide_analysis(seq)\n"
   ]
  },
  {
   "cell_type": "markdown",
   "id": "0c4884cd",
   "metadata": {},
   "source": [
    "# Second alternative function for counting the number of bases"
   ]
  },
  {
   "cell_type": "markdown",
   "id": "a81bb76c",
   "metadata": {},
   "source": [
    "The code defines a function nucleotide_analysis_v2 that takes a DNA sequence seq as input. The function prints the number of occurrences of each nucleotide (A, T, C, and G) in the sequence.\n",
    "\n",
    "The input sequence is first converted to uppercase to ensure consistency in counting the nucleotides. The count method is then used to count the number of occurrences of each nucleotide in the sequence, and the counts are stored in separate variables. Finally, the counts of each nucleotide are printed using print statements."
   ]
  },
  {
   "cell_type": "code",
   "execution_count": 6,
   "id": "b424795b",
   "metadata": {},
   "outputs": [
    {
     "name": "stdout",
     "output_type": "stream",
     "text": [
      "A: 5\n",
      "T: 5\n",
      "C: 4\n",
      "G: 6\n"
     ]
    }
   ],
   "source": [
    "def nucleotide_analysis_v2(dna_sequence):\n",
    "    \"\"\"\n",
    "    Prints the number of A, T, C, and G nucleotides in a DNA sequence.\n",
    "    \"\"\"\n",
    "    # Convert the input DNA sequence to uppercase for consistency\n",
    "    dna_sequence = dna_sequence.upper()\n",
    "    # Count the number of occurrences of each nucleotide in the DNA sequence\n",
    "    a_count = dna_sequence.count('A')\n",
    "    t_count = dna_sequence.count('T')\n",
    "    c_count = dna_sequence.count('C')\n",
    "    g_count = dna_sequence.count('G')\n",
    "    # Print the counts of each nucleotide\n",
    "    print('A:', a_count)\n",
    "    print('T:', t_count)\n",
    "    print('C:', c_count)\n",
    "    print('G:', g_count)\n",
    "\n",
    "# Call the 'nucleotide_analysis_v2' function and pass it a DNA sequence as the argument\n",
    "nucleotide_analysis_v2(seq)\n"
   ]
  },
  {
   "cell_type": "markdown",
   "id": "780d526c",
   "metadata": {},
   "source": [
    "# Third alternative for generating dictionary of the number of each nucleotide"
   ]
  },
  {
   "cell_type": "markdown",
   "id": "c5420382",
   "metadata": {},
   "source": [
    "The code defines a function nucleotide_analysis_v3 that takes a DNA sequence dna_seq as input. The function returns a dictionary that contains the counts of each nucleotide (A, T, C, and G) in the input DNA sequence.\n",
    "\n",
    "The function first creates a dictionary called nucleotide_counts with keys 'A', 'C', 'G', and 'T' and initial values of 0 for each key.\n",
    "\n",
    "The for loop iterates over each nucleotide in the input DNA sequence, and for each nucleotide, the corresponding count in the nucleotide_counts dictionary is incremented by 1.\n",
    "\n",
    "Finally, the function returns the nucleotide_counts dictionary, which contains the counts of each nucleotide in the input DNA sequence.\n"
   ]
  },
  {
   "cell_type": "code",
   "execution_count": 8,
   "id": "7062e74a",
   "metadata": {},
   "outputs": [
    {
     "data": {
      "text/plain": [
       "{'A': 5, 'C': 4, 'G': 6, 'T': 5}"
      ]
     },
     "execution_count": 8,
     "metadata": {},
     "output_type": "execute_result"
    }
   ],
   "source": [
    "def nucleotide_analysis_v3(dna_seq):\n",
    "    \"\"\"\n",
    "    :param dna_seq: DNA sequence\n",
    "    :return: a dictionary of the number of each nucleotide\n",
    "    \"\"\"\n",
    "    # Create a dictionary with keys 'A', 'C', 'G', and 'T' and initial values of 0 for each key\n",
    "    nucleotide_counts = {'A': 0, 'C': 0, 'G': 0, 'T': 0}\n",
    "    # Loop over each nucleotide in the input DNA sequence and increment the count for the corresponding nucleotide in the dictionary\n",
    "    for nucleotide in dna_seq:\n",
    "        nucleotide_counts[nucleotide] += 1\n",
    "    # Return the dictionary of nucleotide counts\n",
    "    return nucleotide_counts\n",
    "\n",
    "# Call the 'nucleotide_analysis_v3' function and pass it a DNA sequence as the argument\n",
    "nucleotide_analysis_v3(seq)\n"
   ]
  },
  {
   "cell_type": "markdown",
   "id": "74bb58f4",
   "metadata": {},
   "source": [
    "# Fourth alternative for calculates the total number of nucleotides and calculates the percentage of each nucleotide"
   ]
  },
  {
   "cell_type": "markdown",
   "id": "bdf1e0c7",
   "metadata": {},
   "source": [
    "The code defines a function nucleotide_analysis_v4 that takes a DNA sequence sequence as input. The function prints out the count and percentage of each nucleotide (A, T, C, and G) in the input DNA sequence, as well as the total count.\n",
    "\n",
    "The function first counts the number of each nucleotide in the input sequence using the count method.\n",
    "\n",
    "It then calculates the total count of nucleotides in the sequence by adding together the counts of each nucleotide.\n",
    "\n",
    "The function then calculates the percentage of each nucleotide by dividing the count of each nucleotide by the total count, multiplying by 100 to get a percentage, and rounding to two decimal places using the round function.\n",
    "\n",
    "Finally, the function prints out the count and percentage of each nucleotide, as well as the total count, using f-strings."
   ]
  },
  {
   "cell_type": "code",
   "execution_count": 10,
   "id": "a29181ed",
   "metadata": {},
   "outputs": [
    {
     "name": "stdout",
     "output_type": "stream",
     "text": [
      "A: 5 (25.0%)\n",
      "T: 5 (25.0%)\n",
      "G: 6 (30.0%)\n",
      "C: 4 (20.0%)\n",
      "Total: 20\n"
     ]
    }
   ],
   "source": [
    "def nucleotide_analysis_v4(sequence):\n",
    "    \"\"\"\n",
    "    a method to analyze a DNA sequence\n",
    "    \"\"\"\n",
    "    # Count the number of each nucleotide in the sequence\n",
    "    a_count = sequence.count('A')\n",
    "    t_count = sequence.count('T')\n",
    "    g_count = sequence.count('G')\n",
    "    c_count = sequence.count('C')\n",
    "    # Calculate the total number of nucleotides in the sequence\n",
    "    total_count = a_count + t_count + g_count + c_count\n",
    "    # Calculate the percentage of each nucleotide in the sequence and round to two decimal places\n",
    "    a_percent = round((a_count/total_count)*100,2)\n",
    "    t_percent = round((t_count/total_count)*100,2)\n",
    "    g_percent = round((g_count/total_count)*100,2)\n",
    "    c_percent = round((c_count/total_count)*100,2)\n",
    "    # Print the results, including the count and percentage of each nucleotide, as well as the total count\n",
    "    print(f'A: {a_count} ({a_percent}%)')\n",
    "    print(f'T: {t_count} ({t_percent}%)')\n",
    "    print(f'G: {g_count} ({g_percent}%)')\n",
    "    print(f'C: {c_count} ({c_percent}%)')\n",
    "    print(f'Total: {total_count}')\n",
    "    \n",
    "# Call the 'nucleotide_analysis_v4' function and pass it the 'seq' variable as the argument\n",
    "nucleotide_analysis_v4(seq)\n"
   ]
  },
  {
   "cell_type": "markdown",
   "id": "d4643ea8",
   "metadata": {},
   "source": [
    "# Fifth alternative for create a dictionary to hold the count - similar to third alternative"
   ]
  },
  {
   "cell_type": "markdown",
   "id": "41b9b4b3",
   "metadata": {},
   "source": [
    "\n",
    "Function called nucleotide_analysis_v5 that takes in a DNA sequence as a parameter and returns a dictionary containing the count of each nucleotide in the sequence.\n",
    "\n",
    "1. In the first line of the function, a docstring is defined to explain what the function does.\n",
    "\n",
    "2. A dictionary called count is created to hold the counts of each nucleotide.\n",
    "\n",
    "3. The count of each nucleotide in the sequence is obtained using the count() method and added to the count dictionary using the keys 'A', 'T', 'G', and 'C'.\n",
    "\n",
    "4. The function returns the count dictionary containing the counts of each nucleotide."
   ]
  },
  {
   "cell_type": "code",
   "execution_count": 11,
   "id": "2ab97f6a",
   "metadata": {},
   "outputs": [
    {
     "data": {
      "text/plain": [
       "{'A': 5, 'T': 5, 'G': 6, 'C': 4}"
      ]
     },
     "execution_count": 11,
     "metadata": {},
     "output_type": "execute_result"
    }
   ],
   "source": [
    "def nucleotide_analysis_v5(sequence):\n",
    "    \"\"\"\n",
    "    Calculate the number of each type of nucleotide in the sequence.\n",
    "    \"\"\"\n",
    "    #create a dictionary to hold the counts\n",
    "    count = {}\n",
    "    #add the counts to the dictionary\n",
    "    count['A'] = sequence.count('A')\n",
    "    count['T'] = sequence.count('T')\n",
    "    count['G'] = sequence.count('G')\n",
    "    count['C'] = sequence.count('C')\n",
    "\n",
    "    #return the dictionary\n",
    "    return count\n",
    "\n",
    "nucleotide_analysis_v5(seq)"
   ]
  },
  {
   "cell_type": "markdown",
   "id": "fffc79df",
   "metadata": {},
   "source": [
    "------------------------------------------------------------------------------------------------------------------------------"
   ]
  },
  {
   "cell_type": "markdown",
   "id": "f285e640",
   "metadata": {},
   "source": [
    "# Plotting methods for nucleitude string"
   ]
  },
  {
   "cell_type": "markdown",
   "id": "aac9892d",
   "metadata": {},
   "source": [
    "Count the frequency of nucleotide and plot pie chart\n",
    "\n",
    "This code uses the collections module to create a Counter object that counts the frequency of each nucleotide. It then uses the pyplot module from the matplotlib library to create a pie chart visualizing the frequency of nucleotides in the input sequence.\n",
    "\n",
    "The labels list contains the labels for each segment of the pie chart, while the sizes list contains the size (i.e., frequency) of each segment. The explode tuple specifies how much to \"explode\" each segment (i.e., move it away from the center of the pie chart) to highlight it.\n",
    "\n",
    "The ax1.pie() method plots the pie chart with the specified settings, including the labels, sizes, and explosion of each segment, as well as the autopct argument that formats the percentage of each segment to one decimal place."
   ]
  },
  {
   "cell_type": "code",
   "execution_count": 13,
   "id": "e2f3ee57",
   "metadata": {},
   "outputs": [
    {
     "data": {
      "image/png": "[encoded data removed]",
      "text/plain": [
       "<Figure size 432x288 with 1 Axes>"
      ]
     },
     "metadata": {},
     "output_type": "display_data"
    }
   ],
   "source": [
    "from collections import Counter  # Import the 'Counter' class from the 'collections' module\n",
    "from matplotlib import pyplot as plt  # Import the 'pyplot' module from the 'matplotlib' library and alias it as 'plt'\n",
    "from matplotlib import style  # Import the 'style' module from the 'matplotlib' library\n",
    "\n",
    "def nucleotide_counter(sequence):\n",
    "    \"\"\"Count the frequency of nucleotide and plot pie chart\"\"\"\n",
    "    # Count the frequency of each nucleotide\n",
    "    a_count = sequence.count('A')\n",
    "    t_count = sequence.count('T')\n",
    "    c_count = sequence.count('C')\n",
    "    g_count = sequence.count('G')\n",
    "    # Plot a pie chart to visualize the frequency of nucleotides\n",
    "    labels = 'A', 'T', 'C', 'G'\n",
    "    sizes = [a_count, t_count, c_count, g_count]\n",
    "    explode = (0, 0.1, 0, 0)  # Only \"explode\" the 2nd slice (i.e. 'T') to highlight it\n",
    "    fig1, ax1 = plt.subplots()  # Create a new figure and axes for the plot\n",
    "    ax1.pie(sizes, explode=explode, labels=labels, autopct='%1.1f%%',\n",
    "            shadow=True, startangle=90)  # Plot the pie chart with the specified settings\n",
    "    ax1.axis('equal')  # Set the aspect ratio of the plot to be equal to ensure a circular pie chart\n",
    "    plt.show()  # Show the plot\n",
    "\n",
    "# Call the 'nucleotide_counter' function and pass it the 'seq' variable, which contains a predetermined DNA sequence\n",
    "nucleotide_counter(seq)\n"
   ]
  },
  {
   "cell_type": "markdown",
   "id": "ebc2d5b3",
   "metadata": {},
   "source": [
    "------------------------------------------------------------------------------------------------------------------------------"
   ]
  },
  {
   "cell_type": "markdown",
   "id": "c36fd769",
   "metadata": {},
   "source": [
    "# Alternative - Count the frequency of nucleotide anf plot pie chart\n",
    "\n",
    "The code defines a function nucleotide_counter_v1 that takes a DNA sequence sequence as input. The function counts the frequency of each nucleotide (A, T, C, and G) in the sequence, stores the frequencies in a dictionary, and then plots a pie chart of the frequencies.\n",
    "\n",
    "The frequency of each nucleotide is stored in a dictionary dna_dict, which is initialized with a count of 0 for each nucleotide. The function then loops over each nucleotide in the sequence and increments the count of the corresponding nucleotide in the dictionary. If the nucleotide is not A, T, C, or G, the function prints an error message.\n",
    "\n",
    "The function then prepares the data for the pie chart by creating lists of labels, sizes, colors, and an explode parameter, and passes them to plt.pie, which creates a pie chart. Finally, the function shows the chart using plt.show."
   ]
  },
  {
   "cell_type": "code",
   "execution_count": 14,
   "id": "dfdba889",
   "metadata": {},
   "outputs": [
    {
     "data": {
      "image/png": "[encoded data removed]",
      "text/plain": [
       "<Figure size 432x288 with 1 Axes>"
      ]
     },
     "metadata": {},
     "output_type": "display_data"
    }
   ],
   "source": [
    "def nucleotide_counter_v1(sequence):\n",
    "    \"\"\"Count the frequency of nucleotide and plot pie chart\"\"\"\n",
    "    # Initialize a dictionary to store the frequency of each nucleotide\n",
    "    dna_dict = {}\n",
    "    dna_dict['A'] = 0\n",
    "    dna_dict['T'] = 0\n",
    "    dna_dict['G'] = 0\n",
    "    dna_dict['C'] = 0\n",
    "\n",
    "    # Count the frequency of each nucleotide in the sequence\n",
    "    for nucleotide in sequence:\n",
    "        if nucleotide == 'A':\n",
    "            dna_dict['A'] += 1\n",
    "        elif nucleotide == 'T':\n",
    "            dna_dict['T'] += 1\n",
    "        elif nucleotide == 'G':\n",
    "            dna_dict['G'] += 1\n",
    "        elif nucleotide == 'C':\n",
    "            dna_dict['C'] += 1\n",
    "        else:\n",
    "            print(\"Not a valid nucleotide\")\n",
    "\n",
    "    # Prepare the data for the pie chart\n",
    "    labels = 'A', 'T', 'G', 'C'\n",
    "    sizes = [dna_dict['A'], dna_dict['T'], dna_dict['G'], dna_dict['C']]\n",
    "    colors = ['gold', 'yellowgreen', 'lightcoral', 'lightskyblue']\n",
    "    explode = (0, 0, 0, 0)  # explode 1st slice\n",
    "\n",
    "    # Plot the pie chart\n",
    "    plt.pie(sizes, explode=explode, labels=labels, colors=colors,\n",
    "            autopct='%1.1f%%', shadow=True, startangle=140)\n",
    "    plt.axis('equal')\n",
    "    plt.show()\n",
    "\n",
    "# Call the 'nucleotide_counter_v1' function and pass it a DNA sequence as the argument\n",
    "nucleotide_counter_v1(seq)\n"
   ]
  },
  {
   "cell_type": "markdown",
   "id": "c3153c38",
   "metadata": {},
   "source": [
    "------------------------------------------------------------------------------------------------------------------------------"
   ]
  },
  {
   "cell_type": "markdown",
   "id": "a0e94292",
   "metadata": {},
   "source": [
    "# Count the frequency of nucleotide anf plot bar chart\n",
    "\n",
    "The code defines a function nucleotide_counter_v3 that takes a DNA sequence sequence as input. The function counts the frequency of each nucleotide in the sequence and plots a bar chart of the counts.\n",
    "\n",
    "The function first initializes a dictionary called count with keys for each nucleotide (A, T, C, and G) and values set to 0. The function then iterates over each nucleotide in the input sequence and increments its count in the count dictionary.\n",
    "\n",
    "Finally, the function uses the keys and values methods of the count dictionary to plot a bar chart of the counts, with the color set to green. "
   ]
  },
  {
   "cell_type": "code",
   "execution_count": 15,
   "id": "d058b221",
   "metadata": {},
   "outputs": [
    {
     "data": {
      "image/png": "[encoded data removed]",
      "text/plain": [
       "<Figure size 432x288 with 1 Axes>"
      ]
     },
     "metadata": {
      "needs_background": "light"
     },
     "output_type": "display_data"
    }
   ],
   "source": [
    "def nucleotide_counter_v3(sequence):\n",
    "    \"\"\"Count the frequency of nucleotide and plot bar chart\"\"\"\n",
    "    # Initialize a dictionary called 'count' with keys for each nucleotide and values set to 0\n",
    "    count = {'A':0, 'T':0, 'C':0, 'G':0}\n",
    "    # Iterate over each nucleotide in the input sequence and increment its count in the dictionary\n",
    "    for nucleotide in sequence:\n",
    "        count[nucleotide] += 1\n",
    "    # Plot a bar chart using the keys and values of the 'count' dictionary, with the color set to green\n",
    "    plt.bar(count.keys(), count.values(), color='g')\n",
    "    # Show the plot\n",
    "    plt.show()\n",
    "\n",
    "# Call the 'nucleotide_counter_v3' function and pass it a DNA sequence as the argument\n",
    "nucleotide_counter_v3(seq)\n"
   ]
  },
  {
   "cell_type": "markdown",
   "id": "adc0e8f6",
   "metadata": {},
   "source": [
    "------------------------------------------------------------------------------------------------------------------------------"
   ]
  },
  {
   "cell_type": "markdown",
   "id": "b1581e20",
   "metadata": {},
   "source": [
    "# Advance method for kmer generation and plotting their frequency\n",
    "\n",
    "kmer - Split sequence into overlapping k-mers\n",
    "\n",
    "The code defines a function kmer that takes a DNA sequence sequence and a k-mer length k as input. The function returns a list of all overlapping k-mers in the sequence.\n",
    "\n",
    "The return statement uses a list comprehension to create a list of k-mers by iterating over the indices of the input sequence. For each index i, a k-mer is created by slicing the sequence from i to i+k. The resulting list contains all k-mers of length k that can be extracted from the input sequence."
   ]
  },
  {
   "cell_type": "code",
   "execution_count": 17,
   "id": "3ed1ce23",
   "metadata": {},
   "outputs": [
    {
     "data": {
      "text/plain": [
       "['GTAT',\n",
       " 'TATG',\n",
       " 'ATGA',\n",
       " 'TGAC',\n",
       " 'GACG',\n",
       " 'ACGC',\n",
       " 'CGCC',\n",
       " 'GCCT',\n",
       " 'CCTG',\n",
       " 'CTGA',\n",
       " 'TGAT',\n",
       " 'GATA',\n",
       " 'ATAG',\n",
       " 'TAGA',\n",
       " 'AGAT',\n",
       " 'GATG',\n",
       " 'ATGC']"
      ]
     },
     "execution_count": 17,
     "metadata": {},
     "output_type": "execute_result"
    }
   ],
   "source": [
    "def kmer(sequence,k):\n",
    "    \"\"\"Split sequence into overlapping  k-mers\"\"\"\n",
    "    # Return a list of all overlapping k-mers in the input sequence\n",
    "    return [sequence[i:i+k] for i in range(len(sequence)-k+1)]\n",
    "\n",
    "# Call the 'kmer' function and pass it the predetermined 20-character DNA sequence and a k-mer length of 4\n",
    "kmer(seq,4)\n"
   ]
  },
  {
   "cell_type": "markdown",
   "id": "dc42c48d",
   "metadata": {},
   "source": [
    "------------------------------------------------------------------------------------------------------------------------------"
   ]
  },
  {
   "cell_type": "markdown",
   "id": "316abfd2",
   "metadata": {},
   "source": [
    "### Split sequence into overlapping kmers and plot them"
   ]
  },
  {
   "cell_type": "markdown",
   "id": "7ff71a8a",
   "metadata": {},
   "source": [
    "The code defines a function kmer_v2 that takes a DNA sequence sequence and a kmer length k as input. The function splits the sequence into overlapping kmers of length k, counts the occurrences of each kmer, and creates a bar plot of the kmer counts.\n",
    "\n",
    "The required modules for plotting are imported, and an empty dictionary kmer_dict is created to store the kmers and their counts. The for loop loops through the sequence and extracts kmers of length k. The if statement checks if the kmer is already in the dictionary, and if not, it adds the kmer with a count of 1. If the kmer is already in the dictionary, its count is incremented by 1.\n",
    "\n",
    "After the loop completes, the kmer_dict dictionary is converted to two lists kmer_list and count_list, which are used to create a bar plot of the kmer counts using the plt.bar() function. The plot is labeled with axis labels and a title, and then displayed using plt.show()."
   ]
  },
  {
   "cell_type": "code",
   "execution_count": 18,
   "id": "50dddec9",
   "metadata": {},
   "outputs": [
    {
     "data": {
      "image/png": "[encoded data removed]",
      "text/plain": [
       "<Figure size 432x288 with 1 Axes>"
      ]
     },
     "metadata": {
      "needs_background": "light"
     },
     "output_type": "display_data"
    }
   ],
   "source": [
    "def kmer_v2(sequence, k):\n",
    "    \"\"\"Split sequence into overlapping kmers and plot them\"\"\"\n",
    "    # Import the required modules for plotting\n",
    "    import matplotlib.pyplot as plt\n",
    "    import numpy as np\n",
    "    # Create an empty dictionary to store the kmers and their counts\n",
    "    kmer_dict = {}\n",
    "    # Loop through the sequence and extract kmers of length k\n",
    "    for i in range(len(sequence)-k+1):\n",
    "        kmer = sequence[i:i+k]\n",
    "        # If the kmer is not already in the dictionary, add it with a count of 1\n",
    "        if kmer not in kmer_dict:\n",
    "            kmer_dict[kmer] = 1\n",
    "        # If the kmer is already in the dictionary, increment its count by 1\n",
    "        else:\n",
    "            kmer_dict[kmer] += 1\n",
    "    # Convert the dictionary to two lists for plotting\n",
    "    kmer_list = []\n",
    "    count_list = []\n",
    "    for kmer in kmer_dict:\n",
    "        kmer_list.append(kmer)\n",
    "        count_list.append(kmer_dict[kmer])\n",
    "    # Create a bar plot of the kmer counts\n",
    "    plt.figure()\n",
    "    plt.bar(kmer_list,count_list)\n",
    "    plt.xlabel('kmer')\n",
    "    plt.ylabel('count')\n",
    "    plt.title('kmer count')\n",
    "    plt.show()\n",
    "\n",
    "# Call the 'kmer_v2' function with the DNA sequence and a kmer length of 3\n",
    "kmer_v2(seq, 3)\n"
   ]
  },
  {
   "cell_type": "markdown",
   "id": "5c79b414",
   "metadata": {},
   "source": [
    "------------------------------------------------------------------------------------------------------------------------------"
   ]
  },
  {
   "cell_type": "markdown",
   "id": "683ccf2f",
   "metadata": {},
   "source": [
    "Modified kmer_v2 function to adjust the size of the plot, add some colors, and rotate the x-axis labels for better visibility of k-mers. Here is the modified code:"
   ]
  },
  {
   "cell_type": "code",
   "execution_count": 20,
   "id": "acc1abe7",
   "metadata": {
    "scrolled": true
   },
   "outputs": [
    {
     "data": {
      "image/png": "[encoded data removed]",
      "text/plain": [
       "<Figure size 864x432 with 1 Axes>"
      ]
     },
     "metadata": {
      "needs_background": "light"
     },
     "output_type": "display_data"
    }
   ],
   "source": [
    "def kmer_v3(sequence, k):\n",
    "    \"\"\"Split sequence into overlapping kmers and plot them\"\"\"\n",
    "    # Import the required modules for plotting\n",
    "    import matplotlib.pyplot as plt\n",
    "    import numpy as np\n",
    "    # Create an empty dictionary to store the kmers and their counts\n",
    "    kmer_dict = {}\n",
    "    # Loop through the sequence and extract kmers of length k\n",
    "    for i in range(len(sequence)-k+1):\n",
    "        kmer = sequence[i:i+k]\n",
    "        # If the kmer is not already in the dictionary, add it with a count of 1\n",
    "        if kmer not in kmer_dict:\n",
    "            kmer_dict[kmer] = 1\n",
    "        # If the kmer is already in the dictionary, increment its count by 1\n",
    "        else:\n",
    "            kmer_dict[kmer] += 1\n",
    "    # Convert the dictionary to two lists for plotting\n",
    "    kmer_list = []\n",
    "    count_list = []\n",
    "    for kmer in kmer_dict:\n",
    "        kmer_list.append(kmer)\n",
    "        count_list.append(kmer_dict[kmer])\n",
    "    # Create a bar plot of the kmer counts with adjusted size, colors and rotation of x-axis labels\n",
    "    fig, ax = plt.subplots(figsize=(12, 6))\n",
    "    plt.bar(kmer_list,count_list, color='purple')\n",
    "    plt.xlabel('kmer', fontsize=14)\n",
    "    plt.xticks(rotation=90, fontsize=12)\n",
    "    plt.ylabel('count', fontsize=14)\n",
    "    plt.title('kmer count', fontsize=16)\n",
    "    plt.show()\n",
    "\n",
    "# Call the 'kmer_v3' function with the DNA sequence and a kmer length of 3\n",
    "kmer_v3(seq, 3)\n"
   ]
  },
  {
   "cell_type": "markdown",
   "id": "c2d47843",
   "metadata": {},
   "source": [
    "------------------------------------------------------------------------------------------------------------------------------"
   ]
  },
  {
   "cell_type": "markdown",
   "id": "ee616780",
   "metadata": {},
   "source": [
    "The provided examples of several different programming concepts and techniques related to bioinformatics and data analysis:\n",
    "\n",
    "1. We provided an example of a Python function that generates a random DNA sequence of a specified length using the random and string modules.\n",
    "\n",
    "2. We demonstrated a Python function that performs nucleotide analysis of a DNA sequence by counting the number of occurrences of each nucleotide in the sequence. We also identified a small typo in the code that was causing an error, and suggested a modified version of the code that should produce a better plot.\n",
    "\n",
    "3. We discussed the use of the numpy and matplotlib modules for data analysis and visualization, and provided an example of a Python function that extracts overlapping k-mers from a DNA sequence and generates a bar plot of the k-mer counts using the matplotlib module.\n",
    "\n",
    "4. Overall, these examples provide a glimpse into some of the powerful tools and techniques that are available to researchers and scientists in the field of bioinformatics and data analysis."
   ]
  }
 ],
 "metadata": {
  "kernelspec": {
   "display_name": "Python 3 (ipykernel)",
   "language": "python",
   "name": "python3"
  },
  "language_info": {
   "codemirror_mode": {
    "name": "ipython",
    "version": 3
   },
   "file_extension": ".py",
   "mimetype": "text/x-python",
   "name": "python",
   "nbconvert_exporter": "python",
   "pygments_lexer": "ipython3",
   "version": "3.9.7"
  }
 },
 "nbformat": 4,
 "nbformat_minor": 5
}
